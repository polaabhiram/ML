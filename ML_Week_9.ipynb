{
  "nbformat": 4,
  "nbformat_minor": 0,
  "metadata": {
    "colab": {
      "provenance": [],
      "authorship_tag": "ABX9TyPcHPvbTyvx8MoffT1HaDq5",
      "include_colab_link": true
    },
    "kernelspec": {
      "name": "python3",
      "display_name": "Python 3"
    },
    "language_info": {
      "name": "python"
    }
  },
  "cells": [
    {
      "cell_type": "markdown",
      "metadata": {
        "id": "view-in-github",
        "colab_type": "text"
      },
      "source": [
        "<a href=\"https://colab.research.google.com/github/polaabhiram/ML/blob/main/ML_Week_9.ipynb\" target=\"_parent\"><img src=\"https://colab.research.google.com/assets/colab-badge.svg\" alt=\"Open In Colab\"/></a>"
      ]
    },
    {
      "cell_type": "markdown",
      "source": [
        "Ensemble learning\n"
      ],
      "metadata": {
        "id": "OSULo5grRfwE"
      }
    },
    {
      "cell_type": "code",
      "source": [
        "#Simple ensemble techniques\n",
        "from sklearn.model_selection import train_test_split\n",
        "from sklearn.linear_model import LogisticRegression\n",
        "from sklearn.svm import SVC\n",
        "from sklearn.tree import DecisionTreeClassifier\n",
        "from sklearn.ensemble import VotingClassifier\n",
        "from sklearn.metrics import accuracy_score\n",
        "from sklearn.datasets import load_iris\n",
        "from sklearn.neighbors import KNeighborsClassifier\n",
        "\n",
        "iris = load_iris()\n",
        "X, y = iris.data, iris.target\n",
        "X_train, X_test, y_train, y_test = train_test_split(X, y, test_size=0.3, random_state=42)\n",
        "\n",
        "\n",
        "clf1 = LogisticRegression(max_iter=1000, random_state=42)\n",
        "clf2 = DecisionTreeClassifier(random_state=42)\n",
        "clf3 = KNeighborsClassifier()\n",
        "\n",
        "hard_voting_clf = VotingClassifier(\n",
        "    estimators=[('lr', clf1), ('dt', clf2), ('knn', clf3)],\n",
        "    voting='hard'\n",
        ")\n",
        "\n",
        "hard_voting_clf.fit(X_train, y_train)\n",
        "y_pred_hard = hard_voting_clf.predict(X_test)\n",
        "\n",
        "print(\"Hard Voting Accuracy:\", accuracy_score(y_test, y_pred_hard))\n",
        "\n",
        "soft_voting_clf = VotingClassifier(\n",
        "    estimators=[('lr', clf1), ('dt', clf2), ('knn', clf3)],\n",
        "    voting='soft'\n",
        ")\n",
        "\n",
        "soft_voting_clf.fit(X_train, y_train)\n",
        "y_pred_soft = soft_voting_clf.predict(X_test)\n",
        "\n",
        "print(\"Soft Voting Accuracy:\", accuracy_score(y_test, y_pred_soft))\n"
      ],
      "metadata": {
        "id": "qZcT0u-VRkK8",
        "colab": {
          "base_uri": "https://localhost:8080/"
        },
        "outputId": "c4e95dee-6624-4c7b-8df3-1e4f3db8b61f"
      },
      "execution_count": 8,
      "outputs": [
        {
          "output_type": "stream",
          "name": "stdout",
          "text": [
            "Hard Voting Accuracy: 1.0\n",
            "Soft Voting Accuracy: 1.0\n"
          ]
        }
      ]
    },
    {
      "cell_type": "code",
      "source": [
        "from sklearn.model_selection import train_test_split\n",
        "from sklearn.tree import DecisionTreeClassifier\n",
        "from sklearn.ensemble import RandomForestClassifier\n",
        "from sklearn.metrics import accuracy_score\n",
        "from sklearn.datasets import load_iris\n",
        "import matplotlib.pyplot as plt\n",
        "\n",
        "def print_metrics(y_test,y_pred):\n",
        "  print(\"Accuracy:\",accuracy_score(y_test,y_pred))\n",
        "  return accuracy_score(y_test,y_pred)\n",
        "iris=load_iris()\n",
        "x,y=iris.data,iris.target\n",
        "\n",
        "x_train,x_test,y_train,y_test =train_test_split(x,y,test_size=0.3,random_state=42)\n",
        "\n",
        "clf1=DecisionTreeClassifier(random_state=42)\n",
        "clf1.fit(x_train,y_train)\n",
        "\n",
        "y_pred=clf1.predict(x_test)\n",
        "print_metrics(y_test,y_pred)\n",
        "\n",
        "\n",
        "\n",
        "n_estimators_list = [1, 5, 10, 50, 100,150]\n",
        "acc=[]\n",
        "\n",
        "for estimators in n_estimators_list:\n",
        "    clf=RandomForestClassifier(n_estimators=estimators,random_state=42)\n",
        "    clf.fit(x_train,y_train)\n",
        "    y_pred=clf.predict(x_test)\n",
        "\n",
        "    print(\"Number of estimators:\",estimators)\n",
        "    score=print_metrics(y_test,y_pred)\n",
        "    acc.append(score)\n",
        "\n",
        "plt.plot(n_estimators_list,acc)\n",
        "plt.show()"
      ],
      "metadata": {
        "colab": {
          "base_uri": "https://localhost:8080/",
          "height": 656
        },
        "id": "JtCRSwnXcjrz",
        "outputId": "6b1293ba-dfb7-4b36-a6af-b72f755b2427"
      },
      "execution_count": 13,
      "outputs": [
        {
          "output_type": "stream",
          "name": "stdout",
          "text": [
            "Accuracy: 1.0\n",
            "Number of estimators: 1\n",
            "Accuracy: 1.0\n",
            "Number of estimators: 5\n",
            "Accuracy: 1.0\n",
            "Number of estimators: 10\n",
            "Accuracy: 1.0\n",
            "Number of estimators: 50\n",
            "Accuracy: 1.0\n",
            "Number of estimators: 100\n",
            "Accuracy: 1.0\n",
            "Number of estimators: 150\n",
            "Accuracy: 1.0\n"
          ]
        },
        {
          "output_type": "display_data",
          "data": {
            "text/plain": [
              "<Figure size 640x480 with 1 Axes>"
            ],
            "image/png": "[encoded data removed]"
          },
          "metadata": {}
        }
      ]
    },
    {
      "cell_type": "code",
      "source": [
        "from sklearn.datasets import load_digits\n",
        "from sklearn.model_selection import train_test_split\n",
        "from sklearn.tree import DecisionTreeClassifier\n",
        "from sklearn.ensemble import RandomForestClassifier\n",
        "from sklearn.metrics import accuracy_score\n",
        "import matplotlib.pyplot as plt\n",
        "\n",
        "def print_metrics(y_test, y_pred):\n",
        "    print(\"Accuracy:\", accuracy_score(y_test, y_pred))\n",
        "    return accuracy_score(y_test, y_pred)\n",
        "\n",
        "# Load digits dataset\n",
        "data = load_digits()\n",
        "x, y = data.data, data.target\n",
        "\n",
        "x_train, x_test, y_train, y_test = train_test_split(x, y, test_size=0.3, random_state=42)\n",
        "\n",
        "# Decision Tree baseline\n",
        "clf1 = DecisionTreeClassifier(random_state=42)\n",
        "clf1.fit(x_train, y_train)\n",
        "y_pred = clf1.predict(x_test)\n",
        "print(\"Decision Tree\")\n",
        "print_metrics(y_test, y_pred)\n",
        "\n",
        "n_estimators_list = [1, 3, 5, 10, 20, 50, 100, 150, 200]\n",
        "acc = []\n",
        "\n",
        "for estimators in n_estimators_list:\n",
        "    clf = RandomForestClassifier(n_estimators=estimators, random_state=42)\n",
        "    clf.fit(x_train, y_train)\n",
        "    y_pred = clf.predict(x_test)\n",
        "\n",
        "    print(f\"Number of estimators: {estimators}\")\n",
        "    score = print_metrics(y_test, y_pred)\n",
        "    acc.append(score)\n",
        "\n",
        "plt.plot(n_estimators_list, acc, marker='o')\n",
        "plt.xlabel(\"Number of Estimators\")\n",
        "plt.ylabel(\"Accuracy\")\n",
        "plt.title(\"Random Forest Accuracy vs Number of Trees (Digits Dataset)\")\n",
        "plt.grid(True)\n",
        "plt.show()\n"
      ],
      "metadata": {
        "colab": {
          "base_uri": "https://localhost:8080/",
          "height": 819
        },
        "id": "aotbIklDgfGr",
        "outputId": "7e8dc88d-2d36-41bb-cb07-4dbdea368fbb"
      },
      "execution_count": 15,
      "outputs": [
        {
          "output_type": "stream",
          "name": "stdout",
          "text": [
            "Decision Tree\n",
            "Accuracy: 0.8425925925925926\n",
            "Number of estimators: 1\n",
            "Accuracy: 0.7574074074074074\n",
            "Number of estimators: 3\n",
            "Accuracy: 0.8592592592592593\n",
            "Number of estimators: 5\n",
            "Accuracy: 0.9203703703703704\n",
            "Number of estimators: 10\n",
            "Accuracy: 0.9444444444444444\n",
            "Number of estimators: 20\n",
            "Accuracy: 0.9648148148148148\n",
            "Number of estimators: 50\n",
            "Accuracy: 0.9740740740740741\n",
            "Number of estimators: 100\n",
            "Accuracy: 0.975925925925926\n",
            "Number of estimators: 150\n",
            "Accuracy: 0.9722222222222222\n",
            "Number of estimators: 200\n",
            "Accuracy: 0.9722222222222222\n"
          ]
        },
        {
          "output_type": "display_data",
          "data": {
            "text/plain": [
              "<Figure size 640x480 with 1 Axes>"
            ],
            "image/png": "[encoded data removed]"
          },
          "metadata": {}
        }
      ]
    },
    {
      "cell_type": "code",
      "source": [
        "#MaxVoting\n",
        "from sklearn.datasets import load_digits\n",
        "from sklearn.model_selection import train_test_split\n",
        "from sklearn.tree import DecisionTreeClassifier\n",
        "from sklearn.ensemble import RandomForestClassifier\n",
        "from sklearn.metrics import accuracy_score\n",
        "import matplotlib.pyplot as plt\n",
        "\n"
      ],
      "metadata": {
        "id": "NGT5_4BRhNiC"
      },
      "execution_count": null,
      "outputs": []
    },
    {
      "cell_type": "code",
      "source": [
        "import numpy as np\n",
        "import pandas as pd\n",
        "from sklearn.model_selection import train_test_split\n",
        "from sklearn.tree import DecisionTreeClassifier\n",
        "from sklearn.neighbors import KNeighborsClassifier\n",
        "from sklearn.svm import SVC\n",
        "from scipy.stats import mode\n",
        "from sklearn.metrics import accuracy_score\n",
        "\n",
        "# Set random seed for reproducibility\n",
        "np.random.seed(42)\n",
        "\n",
        "# Generate synthetic features for 3 classes (Dog=0, Cat=1, Bird=2)\n",
        "n_samples = 100\n",
        "\n",
        "# Class 0: Dog (feature means around 5, 3, 1.5, 0.3)\n",
        "dog_features = np.random.normal(loc=[5, 3, 1.5, 0.3], scale=0.5, size=(n_samples//3, 4))\n",
        "\n",
        "# Class 1: Cat (feature means around 6, 3, 4.5, 1.5)\n",
        "cat_features = np.random.normal(loc=[6, 3, 4.5, 1.5], scale=0.5, size=(n_samples//3, 4))\n",
        "\n",
        "# Class 2: Bird (feature means around 7, 3, 6, 2)\n",
        "bird_features = np.random.normal(loc=[7, 3, 6, 2], scale=0.5, size=(n_samples//3, 4))\n",
        "\n",
        "X = np.vstack((dog_features, cat_features, bird_features))\n",
        "y = np.array([0]*(n_samples//3) + [1]*(n_samples//3) + [2]*(n_samples//3))\n",
        "\n",
        "df = pd.DataFrame(X, columns=['Feature1', 'Feature2', 'Feature3', 'Feature4'])\n",
        "df['Label'] = y\n",
        "\n",
        "print(df.head())\n",
        "\n",
        "X_train, X_test, y_train, y_test = train_test_split(X, y, test_size=0.2, random_state=42)\n",
        "\n",
        "clf1 = DecisionTreeClassifier(random_state=42)\n",
        "clf2 = KNeighborsClassifier(n_neighbors=3)\n",
        "clf3 = SVC(probability=False, random_state=42)\n",
        "\n",
        "clf1.fit(X_train, y_train)\n",
        "clf2.fit(X_train, y_train)\n",
        "clf3.fit(X_train, y_train)\n",
        "\n",
        "pred1 = clf1.predict(X_test)\n",
        "pred2 = clf2.predict(X_test)\n",
        "pred3 = clf3.predict(X_test)\n",
        "\n",
        "predictions = np.vstack((pred1, pred2, pred3))\n",
        "final_pred, _ = mode(predictions, axis=0)\n",
        "\n",
        "\n",
        "print(\"Decision Tree Accuracy:\", accuracy_score(y_test, pred1))\n",
        "print(\"KNN Accuracy:\", accuracy_score(y_test, pred2))\n",
        "print(\"SVM Accuracy:\", accuracy_score(y_test, pred3))\n",
        "print(\"Max Voting Ensemble Accuracy:\", accuracy_score(y_test, final_pred.ravel()))\n"
      ],
      "metadata": {
        "colab": {
          "base_uri": "https://localhost:8080/"
        },
        "id": "q8MRHQfwi2QE",
        "outputId": "cb6a5685-fb14-439c-e58b-10d383473d5e"
      },
      "execution_count": 20,
      "outputs": [
        {
          "output_type": "stream",
          "name": "stdout",
          "text": [
            "   Feature1  Feature2  Feature3  Feature4  Label\n",
            "0  5.248357  2.930868  1.823844  1.061515      0\n",
            "1  4.882923  2.882932  2.289606  0.683717      0\n",
            "2  4.765263  3.271280  1.268291  0.067135      0\n",
            "3  5.120981  2.043360  0.637541  0.018856      0\n",
            "4  4.493584  3.157124  1.045988 -0.406152      0\n",
            "Decision Tree Accuracy: 0.95\n",
            "KNN Accuracy: 0.95\n",
            "SVM Accuracy: 0.95\n",
            "Max Voting Ensemble Accuracy: 0.95\n"
          ]
        }
      ]
    }
  ]
}